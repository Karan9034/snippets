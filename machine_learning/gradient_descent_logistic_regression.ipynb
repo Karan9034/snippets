{
 "cells": [
  {
   "cell_type": "code",
   "execution_count": 1,
   "id": "6ef77272",
   "metadata": {},
   "outputs": [],
   "source": [
    "import numpy as np\n",
    "import matplotlib.pyplot as plt\n",
    "from sklearn.datasets import load_breast_cancer\n",
    "from sklearn.metrics import mean_squared_error"
   ]
  },
  {
   "cell_type": "code",
   "execution_count": 2,
   "id": "25e30dff",
   "metadata": {},
   "outputs": [
    {
     "data": {
      "text/plain": [
       "array([[1.799e+01, 1.038e+01, 1.228e+02, ..., 2.654e-01, 4.601e-01,\n",
       "        1.189e-01],\n",
       "       [2.057e+01, 1.777e+01, 1.329e+02, ..., 1.860e-01, 2.750e-01,\n",
       "        8.902e-02],\n",
       "       [1.969e+01, 2.125e+01, 1.300e+02, ..., 2.430e-01, 3.613e-01,\n",
       "        8.758e-02],\n",
       "       ...,\n",
       "       [1.660e+01, 2.808e+01, 1.083e+02, ..., 1.418e-01, 2.218e-01,\n",
       "        7.820e-02],\n",
       "       [2.060e+01, 2.933e+01, 1.401e+02, ..., 2.650e-01, 4.087e-01,\n",
       "        1.240e-01],\n",
       "       [7.760e+00, 2.454e+01, 4.792e+01, ..., 0.000e+00, 2.871e-01,\n",
       "        7.039e-02]])"
      ]
     },
     "execution_count": 2,
     "metadata": {},
     "output_type": "execute_result"
    }
   ],
   "source": [
    "X, y = load_breast_cancer(return_X_y=True)\n",
    "X"
   ]
  },
  {
   "cell_type": "code",
   "execution_count": 3,
   "id": "fb1c1fc8",
   "metadata": {},
   "outputs": [],
   "source": [
    "def hypothesis(theta, X):\n",
    "    hx = theta[0]\n",
    "    for i in range(X.shape[1]-1):\n",
    "        hx += theta[i + 1] * X[:, i]\n",
    "    return 1.0 / (1.0 + np.exp(-hx))\n",
    "def cost_func(theta, X, y):\n",
    "    hx = hypothesis(theta, X)\n",
    "    return (-y * np.log(hx) - (1-y) * np.log(1-hx))"
   ]
  },
  {
   "cell_type": "code",
   "execution_count": 4,
   "id": "ee81df1e",
   "metadata": {},
   "outputs": [],
   "source": [
    "m = len(X)\n",
    "def gradient_descent(theta, X, y, alpha):\n",
    "    cost=[]\n",
    "    i=0\n",
    "    while i<2000:\n",
    "        hx = hypothesis(theta, X)\n",
    "        hx = hx.reshape(569,1)\n",
    "        theta[0] -= alpha*(1/m)* np.sum(hx - y)\n",
    "        theta[1] -= alpha*(1/m)* np.sum((hx - y)*X)\n",
    "        cost.append(cost_func(theta, X, y))\n",
    "        i+=1\n",
    "    return cost, theta"
   ]
  },
  {
   "cell_type": "code",
   "execution_count": 5,
   "id": "668e2fc5",
   "metadata": {},
   "outputs": [],
   "source": [
    "def predict(theta, X, y, alpha):\n",
    "    cost, theta = gradient_descent(theta, X, y, alpha)\n",
    "    return hypothesis(theta, X), cost, theta"
   ]
  },
  {
   "cell_type": "code",
   "execution_count": null,
   "id": "2bb29ebb",
   "metadata": {},
   "outputs": [],
   "source": [
    "theta = np.zeros(30)\n",
    "y = y.reshape(569, 1)\n",
    "pred, cost, theta = predict(theta, X, y, 0.0003)\n",
    "pred = np.where(pred>=0.5, 0, pred)\n",
    "pred = np.where(pred!=0, 1, pred)\n",
    "y = y.reshape(569)\n",
    "pred"
   ]
  },
  {
   "cell_type": "code",
   "execution_count": null,
   "id": "4b17e82d",
   "metadata": {},
   "outputs": [],
   "source": [
    "diff = pred - y\n",
    "plt.hist(diff)"
   ]
  },
  {
   "cell_type": "code",
   "execution_count": null,
   "id": "75c907e5",
   "metadata": {},
   "outputs": [],
   "source": [
    "print(X.shape, y.shape, pred.shape)\n",
    "plt.scatter(X[:,3], y)\n",
    "plt.scatter(X[:,3], pred)"
   ]
  },
  {
   "cell_type": "code",
   "execution_count": null,
   "id": "bc52f74f",
   "metadata": {},
   "outputs": [],
   "source": [
    "mean_squared_error(y, pred) ** 0.5"
   ]
  },
  {
   "cell_type": "code",
   "execution_count": null,
   "id": "67b3bffa",
   "metadata": {},
   "outputs": [],
   "source": []
  }
 ],
 "metadata": {
  "kernelspec": {
   "display_name": "Python 3",
   "language": "python",
   "name": "python3"
  },
  "language_info": {
   "codemirror_mode": {
    "name": "ipython",
    "version": 3
   },
   "file_extension": ".py",
   "mimetype": "text/x-python",
   "name": "python",
   "nbconvert_exporter": "python",
   "pygments_lexer": "ipython3",
   "version": "3.8.5"
  }
 },
 "nbformat": 4,
 "nbformat_minor": 5
}
